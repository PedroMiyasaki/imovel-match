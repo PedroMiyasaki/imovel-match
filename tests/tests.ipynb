{
 "cells": [
  {
   "cell_type": "markdown",
   "id": "fff172ed",
   "metadata": {},
   "source": [
    "# Test agent"
   ]
  },
  {
   "cell_type": "code",
   "execution_count": 5,
   "id": "f881533a",
   "metadata": {},
   "outputs": [],
   "source": [
    "from pydantic import BaseModel\n",
    "from pydantic_ai import Agent\n",
    "from pydantic import Field\n",
    "from pydantic_ai import RunContext\n",
    "from dotenv import load_dotenv\n",
    "from typing import Optional\n",
    "import duckdb\n",
    "\n",
    "load_dotenv()\n",
    "\n",
    "system_prompt = \"\"\"\n",
    "You are a real estate agent and you need to help the customer find the best property for them.\n",
    "For any property search, you MUST use the `search_properties` tool.\n",
    "Do not invent information about the properties. If the search does not return results, inform the user in a friendly way.\n",
    "\n",
    "You respond in the same language as the user's input.\n",
    "\"\"\"\n",
    "\n",
    "class UserInput(BaseModel):\n",
    "    class Config:\n",
    "        arbitrary_types_allowed = True\n",
    "        \n",
    "    connection: duckdb.DuckDBPyConnection = Field(..., description=\"Connection with the database\")\n",
    "\n",
    "class RealStateAgentOutput(BaseModel):\n",
    "    response: str = Field(..., description=\"Agent response\")\n",
    "    properties: Optional[str] = Field(None, description=\"Properties found by the `search_properties` tool\")\n",
    "\n",
    "real_state_agent = Agent(\n",
    "    \"groq:llama-3.3-70b-versatile\",\n",
    "    deps_type=UserInput,\n",
    "    system_prompt=system_prompt,\n",
    "    output_type=RealStateAgentOutput\n",
    ")\n",
    "\n",
    "@real_state_agent.tool(require_parameter_descriptions=True)\n",
    "async def search_properties(\n",
    "    ctx: RunContext[UserInput],\n",
    "    preco_min: float = None,\n",
    "    preco_max: float = None,\n",
    "    tamanho_min: float = None,\n",
    "    tamanho_max: float = None,\n",
    "    n_quartos: int = None,\n",
    "    n_banheiros: int = None,\n",
    "    n_garagem: int = None,\n",
    "    rua: str = None,\n",
    "    bairro: str = None,\n",
    "    cidade: str = None,\n",
    ") -> str:\n",
    "    \"\"\"\n",
    "    Searches for properties in the database based on the provided filters.\n",
    "\n",
    "    Args:\n",
    "        preco_min: Minimum price of the property.\n",
    "        preco_max: Maximum price of the property.\n",
    "        tamanho_min: Minimum size of the property.\n",
    "        tamanho_max: Maximum size of the property.\n",
    "        n_quartos: Number of bedrooms.\n",
    "        n_banheiros: Number of bathrooms.\n",
    "        n_garagem: Number of garage spaces.\n",
    "        rua: Street name (partial match).\n",
    "        bairro: Neighborhood name (partial match).\n",
    "        cidade: City name (partial match).\n",
    "\n",
    "    Returns:\n",
    "        A markdown table with the properties found, or an empty table if no properties match.\n",
    "    \"\"\"\n",
    "    base_query = \"SELECT id, preco, tamanho, cidade, bairro, rua, n_quartos, n_banheiros, n_garagem FROM propriedades\"\n",
    "    filters = []\n",
    "    params = {}\n",
    "\n",
    "    if preco_min is not None:\n",
    "        filters.append(f\"preco >= {preco_min}\")\n",
    "        params[\"preco_min\"] = preco_min\n",
    "    if preco_max is not None:\n",
    "        filters.append(f\"preco <= {preco_max}\")\n",
    "        params[\"preco_max\"] = preco_max\n",
    "    if tamanho_min is not None:\n",
    "        filters.append(f\"tamanho >= {tamanho_min}\")\n",
    "        params[\"tamanho_min\"] = tamanho_min\n",
    "    if tamanho_max is not None:\n",
    "        filters.append(f\"tamanho <= {tamanho_max}\")\n",
    "        params[\"tamanho_max\"] = tamanho_max\n",
    "    if n_quartos is not None:\n",
    "        filters.append(f\"n_quartos = {n_quartos}\")\n",
    "        params[\"n_quartos\"] = n_quartos\n",
    "    if n_banheiros is not None:\n",
    "        filters.append(f\"n_banheiros = {n_banheiros}\")\n",
    "        params[\"n_banheiros\"] = n_banheiros\n",
    "    if n_garagem is not None:\n",
    "        filters.append(f\"n_garagem = {n_garagem}\")\n",
    "        params[\"n_garagem\"] = n_garagem\n",
    "    if rua is not None:\n",
    "        filters.append(f\"rua ILIKE '%{rua}%'\")\n",
    "        params[\"rua\"] = f\"%{rua}%\"\n",
    "    if bairro is not None:\n",
    "        filters.append(f\"bairro ILIKE '%{bairro}%'\")\n",
    "        params[\"bairro\"] = f\"%{bairro}%\"\n",
    "    if cidade is not None:\n",
    "        filters.append(f\"cidade ILIKE '%{cidade}%'\")\n",
    "        params[\"cidade\"] = f\"%{cidade}%\"\n",
    "\n",
    "    if filters:\n",
    "        base_query += \" WHERE \" + \" AND \".join(filters)\n",
    "\n",
    "    df = ctx.deps.connection.execute(base_query).fetch_df()\n",
    "    return df.to_markdown(index=False)"
   ]
  },
  {
   "cell_type": "code",
   "execution_count": 6,
   "id": "08e0267a",
   "metadata": {},
   "outputs": [
    {
     "name": "stdout",
     "output_type": "stream",
     "text": [
      "AgentRunResult(output=RealStateAgentOutput(response='Olá! Encontramos 6 opções de imóveis de 2 quartos no bairro Água Verde, em Curitiba, com preço máximo de R$ 500.000,00. Aqui estão os resultados da busca: \\n | id                               |   preco |   tamanho | cidade   | bairro     | rua                               |   n_quartos |   n_banheiros |   n_garagem |\\n|:---------------------------------|--------:|----------:|:---------|:-----------|:----------------------------------|------------:|--------------:|------------:|\\n| c8e64248f1a9e66e3518454950d39545 |  460000 |        52 | curitiba | agua verde | Rua Amazonas, 383                 |           2 |             1 |           0 |\\n| 077f1ace404edd106c67c285c7d11c14 |  455000 |        64 | curitiba | agua verde | Avenida República Argentina, 2534 |           2 |             3 |           0 |\\n| 17f4ccd5544d36d61c98f2d0079ea74c |  469000 |        56 | curitiba | agua verde | Rua Guilherme Pugsley, 2620       |           2 |             1 |           0 |\\n| 6f9666d037838cb8aab548d14c451cae |  389900 |        55 | curitiba | agua verde | Rua Guilherme Pugsley, 2650       |           2 |             1 |           0 |\\n| 79ab864711c3cece1b3d18dfb94c3b4d |  380000 |        60 | curitiba | agua verde | Rua Santa Catarina                |           2 |             2 |           1 |\\n| f9ef7dcd2740d2224cb2be5c3d341fc2 |  410000 |        55 | curitiba | agua verde | Travessa Rafael Francisco Greca   |           2 |             1 |           1 |\\nEspero que essas opções sejam útteis para vocè. Se precisar de mais ajuda ou tiver alguma dúveda, não hesite em perguntar!', properties='| id                               |   preco |   tamanho | cidade   | bairro     | rua                               |   n_quartos |   n_banheiros |   n_garagem |\\n|:---------------------------------|--------:|----------:|:---------|:-----------|:----------------------------------|------------:|--------------:|------------:|\\n| c8e64248f1a9e66e3518454950d39545 |  460000 |        52 | curitiba | agua verde | Rua Amazonas, 383                 |           2 |             1 |           0 |\\n| 077f1ace404edd106c67c285c7d11c14 |  455000 |        64 | curitiba | agua verde | Avenida República Argentina, 2534 |           2 |             3 |           0 |\\n| 17f4ccd5544d36d61c98f2d0079ea74c |  469000 |        56 | curitiba | agua verde | Rua Guilherme Pugsley, 2620       |           2 |             1 |           0 |\\n| 6f9666d037838cb8aab548d14c451cae |  389900 |        55 | curitiba | agua verde | Rua Guilherme Pugsley, 2650       |           2 |             1 |           0 |\\n| 79ab864711c3cece1b3d18dfb94c3b4d |  380000 |        60 | curitiba | agua verde | Rua Santa Catarina                |           2 |             2 |           1 |\\n| f9ef7dcd2740d2224cb2be5c3d341fc2 |  410000 |        55 | curitiba | agua verde | Travessa Rafael Francisco Greca   |           2 |             1 |           1 |'))\n"
     ]
    }
   ],
   "source": [
    "connection = duckdb.connect(\"../db/db.duckdb\")\n",
    "\n",
    "result = await real_state_agent.run(\"Gostaria de um imóvel de no máximo 500mil reais, no agua verde em curitiba, 2 quartos\", deps=UserInput(connection=connection))\n",
    "\n",
    "print(result)"
   ]
  },
  {
   "cell_type": "code",
   "execution_count": 10,
   "id": "46808943",
   "metadata": {},
   "outputs": [
    {
     "name": "stdout",
     "output_type": "stream",
     "text": [
      "| id                               |   preco |   tamanho | cidade   | bairro     | rua                               |   n_quartos |   n_banheiros |   n_garagem |\n",
      "|:---------------------------------|--------:|----------:|:---------|:-----------|:----------------------------------|------------:|--------------:|------------:|\n",
      "| c8e64248f1a9e66e3518454950d39545 |  460000 |        52 | curitiba | agua verde | Rua Amazonas, 383                 |           2 |             1 |           0 |\n",
      "| 077f1ace404edd106c67c285c7d11c14 |  455000 |        64 | curitiba | agua verde | Avenida República Argentina, 2534 |           2 |             3 |           0 |\n",
      "| 17f4ccd5544d36d61c98f2d0079ea74c |  469000 |        56 | curitiba | agua verde | Rua Guilherme Pugsley, 2620       |           2 |             1 |           0 |\n",
      "| 6f9666d037838cb8aab548d14c451cae |  389900 |        55 | curitiba | agua verde | Rua Guilherme Pugsley, 2650       |           2 |             1 |           0 |\n",
      "| 79ab864711c3cece1b3d18dfb94c3b4d |  380000 |        60 | curitiba | agua verde | Rua Santa Catarina                |           2 |             2 |           1 |\n",
      "| f9ef7dcd2740d2224cb2be5c3d341fc2 |  410000 |        55 | curitiba | agua verde | Travessa Rafael Francisco Greca   |           2 |             1 |           1 |\n"
     ]
    }
   ],
   "source": [
    "print(result.output.properties)"
   ]
  },
  {
   "cell_type": "code",
   "execution_count": null,
   "id": "fda57aa8",
   "metadata": {},
   "outputs": [],
   "source": []
  }
 ],
 "metadata": {
  "kernelspec": {
   "display_name": ".venv",
   "language": "python",
   "name": "python3"
  },
  "language_info": {
   "codemirror_mode": {
    "name": "ipython",
    "version": 3
   },
   "file_extension": ".py",
   "mimetype": "text/x-python",
   "name": "python",
   "nbconvert_exporter": "python",
   "pygments_lexer": "ipython3",
   "version": "3.11.7"
  }
 },
 "nbformat": 4,
 "nbformat_minor": 5
}
