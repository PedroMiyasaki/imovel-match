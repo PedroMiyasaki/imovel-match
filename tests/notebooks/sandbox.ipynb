{
 "cells": [
  {
   "cell_type": "markdown",
   "id": "e7a09a36",
   "metadata": {},
   "source": [
    "# Imports"
   ]
  },
  {
   "cell_type": "code",
   "execution_count": 1,
   "id": "7270a5ce",
   "metadata": {},
   "outputs": [],
   "source": [
    "import sys\n",
    "import os\n",
    "\n",
    "# In Jupyter notebooks, __file__ is not defined. Use workaround:\n",
    "if \"__file__\" in globals():\n",
    "    base_dir = os.path.dirname(__file__)\n",
    "\n",
    "else:\n",
    "    base_dir = os.getcwd()\n",
    "    sys.path.insert(0, os.path.abspath(os.path.join(base_dir, '..', '..')))\n",
    "\n",
    "\n",
    "from app.agents.real_estate_agent import real_state_agent\n",
    "from app.models.user_models import UserInput\n",
    "from pydantic_ai.messages import ToolCallPart\n",
    "import duckdb"
   ]
  },
  {
   "cell_type": "markdown",
   "id": "b505a161",
   "metadata": {},
   "source": [
    "# Functions"
   ]
  },
  {
   "cell_type": "markdown",
   "id": "65f3f2a7",
   "metadata": {},
   "source": []
  },
  {
   "cell_type": "markdown",
   "id": "13cbbaef",
   "metadata": {},
   "source": [
    "# Agent testing"
   ]
  },
  {
   "cell_type": "code",
   "execution_count": 3,
   "id": "b9ce85cd",
   "metadata": {},
   "outputs": [],
   "source": [
    "connection = duckdb.connect(\"../test_db.db\")"
   ]
  },
  {
   "cell_type": "markdown",
   "id": "dfe80613",
   "metadata": {},
   "source": [
    "## Real estate agent"
   ]
  },
  {
   "cell_type": "markdown",
   "id": "a7cefe66",
   "metadata": {},
   "source": [
    "### 1"
   ]
  },
  {
   "cell_type": "code",
   "execution_count": null,
   "id": "37c3170c",
   "metadata": {},
   "outputs": [
    {
     "data": {
      "text/plain": [
       "False"
      ]
     },
     "execution_count": 3,
     "metadata": {},
     "output_type": "execute_result"
    }
   ],
   "source": [
    "user_input = \"Hi there!\"\n",
    "\n",
    "tool_names = []\n",
    "custom_tools = [\"search_properties\", \"get_property_slots\", \"book_property_slot\", \"cancel_property_slot\"]\n",
    "async with real_state_agent.iter(user_input, deps=UserInput(connection=connection, user_name=\"Alex\")) as agent_run:\n",
    "    async for node in agent_run:\n",
    "        if real_state_agent.is_call_tools_node(node):\n",
    "            for tool_call in node.model_response.parts:\n",
    "                if isinstance(tool_call, ToolCallPart) :\n",
    "                    tool_names.append(tool_call.tool_name)\n",
    "\n",
    "not any(tool in tool_names for tool in custom_tools)"
   ]
  },
  {
   "cell_type": "markdown",
   "id": "35366ff5",
   "metadata": {},
   "source": [
    "### 2"
   ]
  },
  {
   "cell_type": "code",
   "execution_count": 4,
   "id": "7dc8857d",
   "metadata": {},
   "outputs": [],
   "source": [
    "user_input = \"Quais os horários para visitar o imóvel?\"\n",
    "\n",
    "tool_names = []\n",
    "async with real_state_agent.iter(user_input, deps=UserInput(connection=connection, user_name=\"Alex\")) as agent_run:\n",
    "    async for node in agent_run:\n",
    "        if real_state_agent.is_call_tools_node(node):\n",
    "            for tool_call in node.model_response.parts:\n",
    "                if isinstance(tool_call, ToolCallPart) :\n",
    "                    tool_names.append(tool_call.tool_name)"
   ]
  },
  {
   "cell_type": "markdown",
   "id": "7b1985af",
   "metadata": {},
   "source": [
    "### 3"
   ]
  },
  {
   "cell_type": "code",
   "execution_count": null,
   "id": "3d91bfa7",
   "metadata": {},
   "outputs": [],
   "source": [
    "user_input = \"Gostaria de agendar uma visita para o imóvel 'abcfoo42' no dia 2024-12-25 as 10 da manhã.\"\n",
    "#user_input = \"Quero agendar uma visita para o imovel de id '32ih7c' as 10 da manhã.\"\n",
    "\n",
    "tool_names = []\n",
    "async with real_state_agent.iter(user_input, deps=UserInput(connection=connection, user_name=\"Alex\")) as agent_run:\n",
    "    async for node in agent_run:\n",
    "        if real_state_agent.is_call_tools_node(node):\n",
    "            for tool_call in node.model_response.parts:\n",
    "                if isinstance(tool_call, ToolCallPart):\n",
    "                    tool_names.append(tool_call)"
   ]
  }
 ],
 "metadata": {
  "kernelspec": {
   "display_name": ".venv",
   "language": "python",
   "name": "python3"
  },
  "language_info": {
   "codemirror_mode": {
    "name": "ipython",
    "version": 3
   },
   "file_extension": ".py",
   "mimetype": "text/x-python",
   "name": "python",
   "nbconvert_exporter": "python",
   "pygments_lexer": "ipython3",
   "version": "3.11.7"
  }
 },
 "nbformat": 4,
 "nbformat_minor": 5
}
