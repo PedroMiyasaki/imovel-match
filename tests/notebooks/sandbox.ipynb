{
 "cells": [
  {
   "cell_type": "markdown",
   "id": "e7a09a36",
   "metadata": {},
   "source": [
    "# Imports"
   ]
  },
  {
   "cell_type": "code",
   "execution_count": 1,
   "id": "7270a5ce",
   "metadata": {},
   "outputs": [],
   "source": [
    "import sys\n",
    "import os\n",
    "\n",
    "# In Jupyter notebooks, __file__ is not defined. Use workaround:\n",
    "if \"__file__\" in globals():\n",
    "    base_dir = os.path.dirname(__file__)\n",
    "\n",
    "else:\n",
    "    base_dir = os.getcwd()\n",
    "    sys.path.insert(0, os.path.abspath(os.path.join(base_dir, '..', '..')))\n",
    "\n",
    "\n",
    "from app.agents.real_estate_agent import real_state_agent\n",
    "from app.models.user_models import UserInput\n",
    "from pydantic_ai.messages import ToolCallPart\n",
    "import duckdb"
   ]
  },
  {
   "cell_type": "markdown",
   "id": "b505a161",
   "metadata": {},
   "source": [
    "# Functions"
   ]
  },
  {
   "cell_type": "markdown",
   "id": "65f3f2a7",
   "metadata": {},
   "source": []
  },
  {
   "cell_type": "markdown",
   "id": "13cbbaef",
   "metadata": {},
   "source": [
    "# Agent testing"
   ]
  },
  {
   "cell_type": "code",
   "execution_count": 2,
   "id": "b9ce85cd",
   "metadata": {},
   "outputs": [],
   "source": [
    "connection = duckdb.connect(\"../../db/db.duckdb\")"
   ]
  },
  {
   "cell_type": "markdown",
   "id": "dfe80613",
   "metadata": {},
   "source": [
    "## Real estate agent"
   ]
  },
  {
   "cell_type": "markdown",
   "id": "335d446a",
   "metadata": {},
   "source": [
    "## Free tests"
   ]
  },
  {
   "cell_type": "code",
   "execution_count": 9,
   "id": "bafd5eb6",
   "metadata": {},
   "outputs": [],
   "source": [
    "params = {\"bairro\":\"boqueirao\",\"cidade\":\"Curitiba\",\"n_quartos\":2,\"preco_max\":500000}\n",
    "n_quartos = params.get('n_quartos')\n",
    "preco_max = params.get('preco_max')\n",
    "cidade = params.get('cidade')\n",
    "bairro = params.get('bairro')"
   ]
  },
  {
   "cell_type": "code",
   "execution_count": 10,
   "id": "e3d40822",
   "metadata": {},
   "outputs": [],
   "source": [
    "base_query = \"SELECT property_id, preco, tamanho, cidade, bairro, rua, n_quartos, n_banheiros, n_garagem FROM properties\"\n",
    "filters = []\n",
    "params = {}\n",
    "\n",
    "if preco_max is not None:\n",
    "    filters.append(f\"preco <= {preco_max}\")\n",
    "    params[\"preco_max\"] = preco_max\n",
    "if n_quartos is not None:\n",
    "    filters.append(f\"n_quartos = {n_quartos}\")\n",
    "    params[\"n_quartos\"] = n_quartos\n",
    "if cidade is not None:\n",
    "    filters.append(f\"cidade ILIKE '%{cidade.lower()}%'\")\n",
    "    params[\"cidade\"] = f\"%{cidade.lower()}%\"\n",
    "    if bairro is not None:\n",
    "        filters.append(f\"bairro ILIKE '%{bairro.lower()}%'\")\n",
    "        params[\"bairro\"] = f\"%{bairro.lower()}%\"\n",
    "\n",
    "if filters:\n",
    "    base_query += \" WHERE \" + \" AND \".join(filters)\n",
    "\n",
    "df = connection.execute(base_query).fetch_df()"
   ]
  },
  {
   "cell_type": "code",
   "execution_count": 11,
   "id": "ea7bec4a",
   "metadata": {},
   "outputs": [
    {
     "data": {
      "text/html": [
       "<div>\n",
       "<style scoped>\n",
       "    .dataframe tbody tr th:only-of-type {\n",
       "        vertical-align: middle;\n",
       "    }\n",
       "\n",
       "    .dataframe tbody tr th {\n",
       "        vertical-align: top;\n",
       "    }\n",
       "\n",
       "    .dataframe thead th {\n",
       "        text-align: right;\n",
       "    }\n",
       "</style>\n",
       "<table border=\"1\" class=\"dataframe\">\n",
       "  <thead>\n",
       "    <tr style=\"text-align: right;\">\n",
       "      <th></th>\n",
       "      <th>property_id</th>\n",
       "      <th>preco</th>\n",
       "      <th>tamanho</th>\n",
       "      <th>cidade</th>\n",
       "      <th>bairro</th>\n",
       "      <th>rua</th>\n",
       "      <th>n_quartos</th>\n",
       "      <th>n_banheiros</th>\n",
       "      <th>n_garagem</th>\n",
       "    </tr>\n",
       "  </thead>\n",
       "  <tbody>\n",
       "    <tr>\n",
       "      <th>0</th>\n",
       "      <td>1190f6a63fa2754842367bc615f8ac1c</td>\n",
       "      <td>385000.0</td>\n",
       "      <td>70.0</td>\n",
       "      <td>curitiba</td>\n",
       "      <td>alto boqueirao</td>\n",
       "      <td>Rua Irmã Maria Francisca Michel</td>\n",
       "      <td>2</td>\n",
       "      <td>2</td>\n",
       "      <td>1</td>\n",
       "    </tr>\n",
       "    <tr>\n",
       "      <th>1</th>\n",
       "      <td>7c45661eaff5997da3c0359a1a037d83</td>\n",
       "      <td>120000.0</td>\n",
       "      <td>40.0</td>\n",
       "      <td>curitiba</td>\n",
       "      <td>alto boqueirao</td>\n",
       "      <td>Travessa Célia Cardozo Dos Santos, 137</td>\n",
       "      <td>2</td>\n",
       "      <td>2</td>\n",
       "      <td>3</td>\n",
       "    </tr>\n",
       "    <tr>\n",
       "      <th>2</th>\n",
       "      <td>a1d999dfa8484de37ee579d014d56556</td>\n",
       "      <td>392000.0</td>\n",
       "      <td>58.0</td>\n",
       "      <td>curitiba</td>\n",
       "      <td>boqueirao</td>\n",
       "      <td>Rua Zonardy Ribas</td>\n",
       "      <td>2</td>\n",
       "      <td>2</td>\n",
       "      <td>1</td>\n",
       "    </tr>\n",
       "  </tbody>\n",
       "</table>\n",
       "</div>"
      ],
      "text/plain": [
       "                        property_id     preco  tamanho    cidade  \\\n",
       "0  1190f6a63fa2754842367bc615f8ac1c  385000.0     70.0  curitiba   \n",
       "1  7c45661eaff5997da3c0359a1a037d83  120000.0     40.0  curitiba   \n",
       "2  a1d999dfa8484de37ee579d014d56556  392000.0     58.0  curitiba   \n",
       "\n",
       "           bairro                                     rua  n_quartos  \\\n",
       "0  alto boqueirao         Rua Irmã Maria Francisca Michel          2   \n",
       "1  alto boqueirao  Travessa Célia Cardozo Dos Santos, 137          2   \n",
       "2       boqueirao                       Rua Zonardy Ribas          2   \n",
       "\n",
       "   n_banheiros  n_garagem  \n",
       "0            2          1  \n",
       "1            2          3  \n",
       "2            2          1  "
      ]
     },
     "execution_count": 11,
     "metadata": {},
     "output_type": "execute_result"
    }
   ],
   "source": [
    "df"
   ]
  },
  {
   "cell_type": "code",
   "execution_count": 3,
   "id": "7f4f7733",
   "metadata": {},
   "outputs": [],
   "source": [
    "user_input = \"Olá, eu gostaria de um imóvel. Até 500mil, eu moro em Curitiba, gostaria de algo no bairro Portão, 2 quartos\"\n",
    "\n",
    "tool_names = []\n",
    "custom_tools = [\"search_properties\", \"get_property_slots\", \"book_property_slot\", \"cancel_property_slot\"]\n",
    "async with real_state_agent.iter(user_input, deps=UserInput(connection=connection, user_name=\"Alex\")) as agent_run:\n",
    "    async for node in agent_run:\n",
    "        if real_state_agent.is_call_tools_node(node):\n",
    "            for tool_call in node.model_response.parts:\n",
    "                if isinstance(tool_call, ToolCallPart) :\n",
    "                    tool_names.append(tool_call.tool_name)"
   ]
  },
  {
   "cell_type": "code",
   "execution_count": 4,
   "id": "79f6bcfa",
   "metadata": {},
   "outputs": [
    {
     "data": {
      "text/plain": [
       "<AgentRun result=FinalResult(output=RealStateAgentOutput(response='Olá Alex, infelizmente não encontrei nenhuma propriedade que atenda aos seus critérios no bairro Portão em Curitiba. Pode tentar novamente com filtros menos específicos? Ou se estiver procurando por uma propriedade específica usando quase todos os parâmetros, revise os valores utilizados. Lembre-se de que os nomes de ruas podem ter variações lexicais, então tente usar um valor diferente para esse parâmetro.', properties='No properties found for the given filters. Please try again with less specific filters. But if you are looking for a specific property using almost all parameters, review parameters values. IMPORTANT: If you are ussing the `rua` parameter to find a specific property, review the value used. Rua names tend to have lexical variations, so try ussing a different value for this parameter.', slots=None), tool_name='final_result', tool_call_id='h1ze91bge') usage=Usage(requests=2, request_tokens=3779, response_tokens=288, total_tokens=4067)>"
      ]
     },
     "execution_count": 4,
     "metadata": {},
     "output_type": "execute_result"
    }
   ],
   "source": [
    "agent_run"
   ]
  },
  {
   "cell_type": "markdown",
   "id": "bf2eef6a",
   "metadata": {},
   "source": [
    "## Tests"
   ]
  },
  {
   "cell_type": "markdown",
   "id": "a7cefe66",
   "metadata": {},
   "source": [
    "### 1"
   ]
  },
  {
   "cell_type": "code",
   "execution_count": null,
   "id": "37c3170c",
   "metadata": {},
   "outputs": [
    {
     "data": {
      "text/plain": [
       "False"
      ]
     },
     "execution_count": 3,
     "metadata": {},
     "output_type": "execute_result"
    }
   ],
   "source": [
    "user_input = \"Hi there!\"\n",
    "\n",
    "tool_names = []\n",
    "custom_tools = [\"search_properties\", \"get_property_slots\", \"book_property_slot\", \"cancel_property_slot\"]\n",
    "async with real_state_agent.iter(user_input, deps=UserInput(connection=connection, user_name=\"Alex\")) as agent_run:\n",
    "    async for node in agent_run:\n",
    "        if real_state_agent.is_call_tools_node(node):\n",
    "            for tool_call in node.model_response.parts:\n",
    "                if isinstance(tool_call, ToolCallPart) :\n",
    "                    tool_names.append(tool_call.tool_name)\n",
    "\n",
    "not any(tool in tool_names for tool in custom_tools)"
   ]
  },
  {
   "cell_type": "markdown",
   "id": "35366ff5",
   "metadata": {},
   "source": [
    "### 2"
   ]
  },
  {
   "cell_type": "code",
   "execution_count": 4,
   "id": "7dc8857d",
   "metadata": {},
   "outputs": [],
   "source": [
    "user_input = \"Quais os horários para visitar o imóvel?\"\n",
    "\n",
    "tool_names = []\n",
    "async with real_state_agent.iter(user_input, deps=UserInput(connection=connection, user_name=\"Alex\")) as agent_run:\n",
    "    async for node in agent_run:\n",
    "        if real_state_agent.is_call_tools_node(node):\n",
    "            for tool_call in node.model_response.parts:\n",
    "                if isinstance(tool_call, ToolCallPart) :\n",
    "                    tool_names.append(tool_call.tool_name)"
   ]
  },
  {
   "cell_type": "markdown",
   "id": "7b1985af",
   "metadata": {},
   "source": [
    "### 3"
   ]
  },
  {
   "cell_type": "code",
   "execution_count": null,
   "id": "3d91bfa7",
   "metadata": {},
   "outputs": [],
   "source": [
    "user_input = \"Gostaria de agendar uma visita para o imóvel 'abcfoo42' no dia 2024-12-25 as 10 da manhã.\"\n",
    "#user_input = \"Quero agendar uma visita para o imovel de id '32ih7c' as 10 da manhã.\"\n",
    "\n",
    "tool_names = []\n",
    "async with real_state_agent.iter(user_input, deps=UserInput(connection=connection, user_name=\"Alex\")) as agent_run:\n",
    "    async for node in agent_run:\n",
    "        if real_state_agent.is_call_tools_node(node):\n",
    "            for tool_call in node.model_response.parts:\n",
    "                if isinstance(tool_call, ToolCallPart):\n",
    "                    tool_names.append(tool_call)"
   ]
  }
 ],
 "metadata": {
  "kernelspec": {
   "display_name": ".venv",
   "language": "python",
   "name": "python3"
  },
  "language_info": {
   "codemirror_mode": {
    "name": "ipython",
    "version": 3
   },
   "file_extension": ".py",
   "mimetype": "text/x-python",
   "name": "python",
   "nbconvert_exporter": "python",
   "pygments_lexer": "ipython3",
   "version": "3.11.7"
  }
 },
 "nbformat": 4,
 "nbformat_minor": 5
}
